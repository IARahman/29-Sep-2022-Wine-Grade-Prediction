{
  "cells": [
    {
      "cell_type": "markdown",
      "metadata": {
        "id": "LSfiyTEp0dNJ"
      },
      "source": [
        "#**Phase 1 Milestone 2 Assignment**"
      ]
    },
    {
      "cell_type": "markdown",
      "metadata": {
        "id": "xlJSxEm10iTL"
      },
      "source": [
        "##**Identity**"
      ]
    },
    {
      "cell_type": "markdown",
      "metadata": {
        "id": "-kImZb3a0ksx"
      },
      "source": [
        "Ihsan Aulia Rahman\n",
        "\n",
        "Full Time Data Science\n",
        "\n",
        "HCK-Batch-001"
      ]
    },
    {
      "cell_type": "markdown",
      "metadata": {
        "id": "IaIY2DNuKLBF"
      },
      "source": [
        "#**A. Description**"
      ]
    },
    {
      "cell_type": "markdown",
      "metadata": {
        "id": "ztgnrw5z0nd-"
      },
      "source": [
        "##**A.1. Problem Statement**"
      ]
    },
    {
      "cell_type": "markdown",
      "source": [
        "Wine  is one of the most influental culture in the world. The wine industry is valued at US$ 339.53 billion in 2020. Nowadays wine is not just a beverage but also a luxury item, with sommeliers checking sure the quality and valuing the bottles. But what if the process could be automated with machine learning? "
      ],
      "metadata": {
        "id": "ZXbPNmkYjPmY"
      }
    },
    {
      "cell_type": "markdown",
      "metadata": {
        "id": "hqvJPTOg06UO"
      },
      "source": [
        "##**A.2. Objective**"
      ]
    },
    {
      "cell_type": "markdown",
      "source": [
        "The goal of this project is to build a classify model to assign grades on wine samples based on their sensory data."
      ],
      "metadata": {
        "id": "cQHtkHeakY13"
      }
    },
    {
      "cell_type": "markdown",
      "metadata": {
        "id": "dI5ooq41081O"
      },
      "source": [
        "#**B. Libraries**"
      ]
    },
    {
      "cell_type": "markdown",
      "metadata": {
        "id": "HdMe_U9V0_zR"
      },
      "source": [
        "Here we import the necessary function libraries for this assignment."
      ]
    },
    {
      "cell_type": "markdown",
      "metadata": {
        "id": "u9fQE46hvqI4"
      },
      "source": [
        "##**B.1. Exploratory Functions**"
      ]
    },
    {
      "cell_type": "code",
      "execution_count": 1,
      "metadata": {
        "id": "1fm-L-iM0Cxh"
      },
      "outputs": [],
      "source": [
        "import numpy as np\n",
        "import pandas as pd\n",
        "import matplotlib.pyplot as plt\n",
        "import seaborn as sns\n",
        "import scipy\n",
        "import statsmodels.api as sm\n",
        "import warnings\n",
        "warnings.filterwarnings(\"ignore\")\n",
        "\n",
        "# Create histogram and box plots of a column\n",
        "def plot_hist_box(df, variable):\n",
        "  plt.figure(figsize=(16, 4))\n",
        "  plt.subplot(1, 2, 1)\n",
        "  sns.histplot(df[variable], bins=40)\n",
        "  plt.title('Histogram')\n",
        "  plt.subplot(1, 2, 2)\n",
        "  sns.boxplot(y=df[variable])\n",
        "  plt.title('Boxplot')\n",
        "  plt.show()\n",
        "\n",
        "# Create bar plot of a column\n",
        "def plot_bar(df, variable):\n",
        "  plt.figure(figsize=(10, 4))\n",
        "  sns.barplot(data = df, x = df[variable].unique(), y = df[variable].value_counts())\n",
        "  plt.title('Category Distribution')\n",
        "  plt.show()\n",
        "\n",
        "# Return upper and lower boundary values of a column \n",
        "def boundaries(df,variable):\n",
        "  skewness = df[variable].skew()\n",
        "  if skewness>=-0.5 and skewness<=0.5:\n",
        "    upper = df[variable].mean() + 3*df[variable].std()\n",
        "    lower = df[variable].mean() - 3*df[variable].std()\n",
        "  else:\n",
        "    Q1 = df[variable].quantile(0.25)\n",
        "    Q3 = df[variable].quantile(0.75)\n",
        "    IQR = Q3 - Q1\n",
        "    upper = Q1 + 1.5*IQR\n",
        "    lower = Q3 - 1.5*IQR\n",
        "  return upper, lower\n",
        "\n",
        "# Return outlier statistics\n",
        "def outliers(df, variable, multiplier, upper_boundary, lower_boundary):\n",
        "  print('Number of data : {}'.format(len(df)))\n",
        "  print('Upper Outlier  : {}'.format(len(df[df[variable] > upper_boundary])))\n",
        "  print('Lower Outlier  : {}'.format(len(df[df[variable] < lower_boundary])))\n",
        "  print('Total Outlier  : {}'.format(len(df[(df[variable] > upper_boundary)]) + len(df[(df[variable] < lower_boundary)])))\n",
        "  print('% outlier : {} %'.format((len(df[(df[variable] > upper_boundary)]) + len(df[(df[variable] < lower_boundary)])) / len(df) * 100))\n",
        "\n",
        "def outlier_analysis(df,col):\n",
        "  skewness = df[col].skew()\n",
        "  if skewness>=-0.5 and skewness<=0.5:\n",
        "    upper = df[col].mean() + 3*df[col].std()\n",
        "    lower = df[col].mean() - 3*df[col].std()\n",
        "  else:\n",
        "    Q1 = df[col].quantile(0.25)\n",
        "    Q3 = df[col].quantile(0.75)\n",
        "    IQR = Q3 - Q1\n",
        "    upper = Q1 + 1.5*IQR\n",
        "    lower = Q3 - 1.5*IQR\n",
        "  not_outliers = df[(df[col]>=lower) & (df[col]<=upper)]\n",
        "  outliers = df[(df[col]<lower) | (df[col]>upper)]\n",
        "  return outliers,not_outliers, upper, lower"
      ]
    },
    {
      "cell_type": "markdown",
      "metadata": {
        "id": "Ecuoy8VpvxU2"
      },
      "source": [
        "##**B.2. Modelling Functions**"
      ]
    },
    {
      "cell_type": "code",
      "execution_count": 2,
      "metadata": {
        "id": "Nn5nKgVZw0Z2",
        "colab": {
          "base_uri": "https://localhost:8080/"
        },
        "outputId": "ae3205c9-900f-4241-d2bc-a92bac34dd44"
      },
      "outputs": [
        {
          "output_type": "stream",
          "name": "stdout",
          "text": [
            "Looking in indexes: https://pypi.org/simple, https://us-python.pkg.dev/colab-wheels/public/simple/\n",
            "Collecting feature-engine\n",
            "  Downloading feature_engine-1.4.0-py2.py3-none-any.whl (276 kB)\n",
            "\u001b[K     |████████████████████████████████| 276 kB 5.4 MB/s \n",
            "\u001b[?25hRequirement already satisfied: scikit-learn>=1.0.0 in /usr/local/lib/python3.7/dist-packages (from feature-engine) (1.0.2)\n",
            "Requirement already satisfied: numpy>=1.18.2 in /usr/local/lib/python3.7/dist-packages (from feature-engine) (1.21.6)\n",
            "Requirement already satisfied: statsmodels>=0.11.1 in /usr/local/lib/python3.7/dist-packages (from feature-engine) (0.12.2)\n",
            "Requirement already satisfied: scipy>=1.4.1 in /usr/local/lib/python3.7/dist-packages (from feature-engine) (1.7.3)\n",
            "Requirement already satisfied: pandas>=1.0.3 in /usr/local/lib/python3.7/dist-packages (from feature-engine) (1.3.5)\n",
            "Requirement already satisfied: python-dateutil>=2.7.3 in /usr/local/lib/python3.7/dist-packages (from pandas>=1.0.3->feature-engine) (2.8.2)\n",
            "Requirement already satisfied: pytz>=2017.3 in /usr/local/lib/python3.7/dist-packages (from pandas>=1.0.3->feature-engine) (2022.2.1)\n",
            "Requirement already satisfied: six>=1.5 in /usr/local/lib/python3.7/dist-packages (from python-dateutil>=2.7.3->pandas>=1.0.3->feature-engine) (1.15.0)\n",
            "Requirement already satisfied: joblib>=0.11 in /usr/local/lib/python3.7/dist-packages (from scikit-learn>=1.0.0->feature-engine) (1.1.0)\n",
            "Requirement already satisfied: threadpoolctl>=2.0.0 in /usr/local/lib/python3.7/dist-packages (from scikit-learn>=1.0.0->feature-engine) (3.1.0)\n",
            "Requirement already satisfied: patsy>=0.5 in /usr/local/lib/python3.7/dist-packages (from statsmodels>=0.11.1->feature-engine) (0.5.2)\n",
            "Installing collected packages: feature-engine\n",
            "Successfully installed feature-engine-1.4.0\n"
          ]
        }
      ],
      "source": [
        "# Split and Standarize Datasets\n",
        "from sklearn.model_selection import train_test_split\n",
        "!pip install feature-engine\n",
        "from feature_engine.outliers import Winsorizer\n",
        "from sklearn.compose import ColumnTransformer\n",
        "from sklearn.preprocessing import MinMaxScaler \n",
        "from sklearn.preprocessing import StandardScaler\n",
        "from sklearn.preprocessing import OneHotEncoder\n",
        "from sklearn.preprocessing import PolynomialFeatures\n",
        "from sklearn.pipeline import make_pipeline\n",
        "from sklearn.pipeline import Pipeline\n",
        "\n",
        "# Classification Models\n",
        "from sklearn.linear_model import LogisticRegression\n",
        "from sklearn.svm import SVC\n",
        "from sklearn.tree import DecisionTreeClassifier\n",
        "from sklearn.ensemble import AdaBoostClassifier\n",
        "\n",
        "# Hyperparameter Optimizer\n",
        "from sklearn.model_selection import GridSearchCV\n",
        "\n",
        "# Evaluate Classification Models\n",
        "from sklearn.metrics import classification_report\n",
        "from sklearn.metrics import accuracy_score\n",
        "\n",
        "# Save Model Files\n",
        "import pickle"
      ]
    },
    {
      "cell_type": "markdown",
      "metadata": {
        "id": "Ucv1THYrHiJT"
      },
      "source": [
        "#**C. Loading and EDA**"
      ]
    },
    {
      "cell_type": "markdown",
      "metadata": {
        "id": "tN1X74UBplUU"
      },
      "source": [
        "##**C.1. Data Loading**"
      ]
    },
    {
      "cell_type": "markdown",
      "source": [
        "The data we are using for our training and testing is the wine grading dataset from Kaggle :\n",
        "\n",
        "https://www.kaggle.com/datasets/shelvigarg/wine-quality-dataset"
      ],
      "metadata": {
        "id": "6g_zAg_oJyxJ"
      }
    },
    {
      "cell_type": "code",
      "execution_count": 3,
      "metadata": {
        "id": "tBk42OoYI82m"
      },
      "outputs": [],
      "source": [
        "ds = pd.read_csv('https://raw.githubusercontent.com/IARahman/GA3-Files/main/winequalityN.csv')\n",
        "pd.set_option('display.max.columns', None)"
      ]
    },
    {
      "cell_type": "markdown",
      "metadata": {
        "id": "Bjw1RE9cppSp"
      },
      "source": [
        "##**C.2. Exploratory Data Analysis**"
      ]
    },
    {
      "cell_type": "markdown",
      "source": [
        "Let's have a look:"
      ],
      "metadata": {
        "id": "sQFWIbOek-Kp"
      }
    },
    {
      "cell_type": "code",
      "source": [
        "ds[ds.quality == 9]"
      ],
      "metadata": {
        "colab": {
          "base_uri": "https://localhost:8080/",
          "height": 285
        },
        "id": "dSFLt6rjqzoI",
        "outputId": "dd5b7345-661b-451f-da91-c40a8b5f6a47"
      },
      "execution_count": 4,
      "outputs": [
        {
          "output_type": "execute_result",
          "data": {
            "text/plain": [
              "       type  fixed acidity  volatile acidity  citric acid  residual sugar  \\\n",
              "774   white            9.1              0.27         0.45            10.6   \n",
              "820   white            6.6              0.36         0.29             1.6   \n",
              "827   white            7.4              0.24         0.36             2.0   \n",
              "876   white            6.9              0.36         0.34             4.2   \n",
              "1605  white            7.1              0.26         0.49             2.2   \n",
              "\n",
              "      chlorides  free sulfur dioxide  total sulfur dioxide  density    pH  \\\n",
              "774       0.035                 28.0                 124.0  0.99700  3.20   \n",
              "820       0.021                 24.0                  85.0  0.98965  3.41   \n",
              "827       0.031                 27.0                 139.0  0.99055  3.28   \n",
              "876       0.018                 57.0                 119.0  0.98980  3.28   \n",
              "1605      0.032                 31.0                 113.0  0.99030  3.37   \n",
              "\n",
              "      sulphates  alcohol  quality  \n",
              "774        0.46     10.4        9  \n",
              "820        0.61     12.4        9  \n",
              "827        0.48     12.5        9  \n",
              "876        0.36     12.7        9  \n",
              "1605       0.42     12.9        9  "
            ],
            "text/html": [
              "\n",
              "  <div id=\"df-dd9d5447-bbb7-4c11-9dee-3c24e5752a0b\">\n",
              "    <div class=\"colab-df-container\">\n",
              "      <div>\n",
              "<style scoped>\n",
              "    .dataframe tbody tr th:only-of-type {\n",
              "        vertical-align: middle;\n",
              "    }\n",
              "\n",
              "    .dataframe tbody tr th {\n",
              "        vertical-align: top;\n",
              "    }\n",
              "\n",
              "    .dataframe thead th {\n",
              "        text-align: right;\n",
              "    }\n",
              "</style>\n",
              "<table border=\"1\" class=\"dataframe\">\n",
              "  <thead>\n",
              "    <tr style=\"text-align: right;\">\n",
              "      <th></th>\n",
              "      <th>type</th>\n",
              "      <th>fixed acidity</th>\n",
              "      <th>volatile acidity</th>\n",
              "      <th>citric acid</th>\n",
              "      <th>residual sugar</th>\n",
              "      <th>chlorides</th>\n",
              "      <th>free sulfur dioxide</th>\n",
              "      <th>total sulfur dioxide</th>\n",
              "      <th>density</th>\n",
              "      <th>pH</th>\n",
              "      <th>sulphates</th>\n",
              "      <th>alcohol</th>\n",
              "      <th>quality</th>\n",
              "    </tr>\n",
              "  </thead>\n",
              "  <tbody>\n",
              "    <tr>\n",
              "      <th>774</th>\n",
              "      <td>white</td>\n",
              "      <td>9.1</td>\n",
              "      <td>0.27</td>\n",
              "      <td>0.45</td>\n",
              "      <td>10.6</td>\n",
              "      <td>0.035</td>\n",
              "      <td>28.0</td>\n",
              "      <td>124.0</td>\n",
              "      <td>0.99700</td>\n",
              "      <td>3.20</td>\n",
              "      <td>0.46</td>\n",
              "      <td>10.4</td>\n",
              "      <td>9</td>\n",
              "    </tr>\n",
              "    <tr>\n",
              "      <th>820</th>\n",
              "      <td>white</td>\n",
              "      <td>6.6</td>\n",
              "      <td>0.36</td>\n",
              "      <td>0.29</td>\n",
              "      <td>1.6</td>\n",
              "      <td>0.021</td>\n",
              "      <td>24.0</td>\n",
              "      <td>85.0</td>\n",
              "      <td>0.98965</td>\n",
              "      <td>3.41</td>\n",
              "      <td>0.61</td>\n",
              "      <td>12.4</td>\n",
              "      <td>9</td>\n",
              "    </tr>\n",
              "    <tr>\n",
              "      <th>827</th>\n",
              "      <td>white</td>\n",
              "      <td>7.4</td>\n",
              "      <td>0.24</td>\n",
              "      <td>0.36</td>\n",
              "      <td>2.0</td>\n",
              "      <td>0.031</td>\n",
              "      <td>27.0</td>\n",
              "      <td>139.0</td>\n",
              "      <td>0.99055</td>\n",
              "      <td>3.28</td>\n",
              "      <td>0.48</td>\n",
              "      <td>12.5</td>\n",
              "      <td>9</td>\n",
              "    </tr>\n",
              "    <tr>\n",
              "      <th>876</th>\n",
              "      <td>white</td>\n",
              "      <td>6.9</td>\n",
              "      <td>0.36</td>\n",
              "      <td>0.34</td>\n",
              "      <td>4.2</td>\n",
              "      <td>0.018</td>\n",
              "      <td>57.0</td>\n",
              "      <td>119.0</td>\n",
              "      <td>0.98980</td>\n",
              "      <td>3.28</td>\n",
              "      <td>0.36</td>\n",
              "      <td>12.7</td>\n",
              "      <td>9</td>\n",
              "    </tr>\n",
              "    <tr>\n",
              "      <th>1605</th>\n",
              "      <td>white</td>\n",
              "      <td>7.1</td>\n",
              "      <td>0.26</td>\n",
              "      <td>0.49</td>\n",
              "      <td>2.2</td>\n",
              "      <td>0.032</td>\n",
              "      <td>31.0</td>\n",
              "      <td>113.0</td>\n",
              "      <td>0.99030</td>\n",
              "      <td>3.37</td>\n",
              "      <td>0.42</td>\n",
              "      <td>12.9</td>\n",
              "      <td>9</td>\n",
              "    </tr>\n",
              "  </tbody>\n",
              "</table>\n",
              "</div>\n",
              "      <button class=\"colab-df-convert\" onclick=\"convertToInteractive('df-dd9d5447-bbb7-4c11-9dee-3c24e5752a0b')\"\n",
              "              title=\"Convert this dataframe to an interactive table.\"\n",
              "              style=\"display:none;\">\n",
              "        \n",
              "  <svg xmlns=\"http://www.w3.org/2000/svg\" height=\"24px\"viewBox=\"0 0 24 24\"\n",
              "       width=\"24px\">\n",
              "    <path d=\"M0 0h24v24H0V0z\" fill=\"none\"/>\n",
              "    <path d=\"M18.56 5.44l.94 2.06.94-2.06 2.06-.94-2.06-.94-.94-2.06-.94 2.06-2.06.94zm-11 1L8.5 8.5l.94-2.06 2.06-.94-2.06-.94L8.5 2.5l-.94 2.06-2.06.94zm10 10l.94 2.06.94-2.06 2.06-.94-2.06-.94-.94-2.06-.94 2.06-2.06.94z\"/><path d=\"M17.41 7.96l-1.37-1.37c-.4-.4-.92-.59-1.43-.59-.52 0-1.04.2-1.43.59L10.3 9.45l-7.72 7.72c-.78.78-.78 2.05 0 2.83L4 21.41c.39.39.9.59 1.41.59.51 0 1.02-.2 1.41-.59l7.78-7.78 2.81-2.81c.8-.78.8-2.07 0-2.86zM5.41 20L4 18.59l7.72-7.72 1.47 1.35L5.41 20z\"/>\n",
              "  </svg>\n",
              "      </button>\n",
              "      \n",
              "  <style>\n",
              "    .colab-df-container {\n",
              "      display:flex;\n",
              "      flex-wrap:wrap;\n",
              "      gap: 12px;\n",
              "    }\n",
              "\n",
              "    .colab-df-convert {\n",
              "      background-color: #E8F0FE;\n",
              "      border: none;\n",
              "      border-radius: 50%;\n",
              "      cursor: pointer;\n",
              "      display: none;\n",
              "      fill: #1967D2;\n",
              "      height: 32px;\n",
              "      padding: 0 0 0 0;\n",
              "      width: 32px;\n",
              "    }\n",
              "\n",
              "    .colab-df-convert:hover {\n",
              "      background-color: #E2EBFA;\n",
              "      box-shadow: 0px 1px 2px rgba(60, 64, 67, 0.3), 0px 1px 3px 1px rgba(60, 64, 67, 0.15);\n",
              "      fill: #174EA6;\n",
              "    }\n",
              "\n",
              "    [theme=dark] .colab-df-convert {\n",
              "      background-color: #3B4455;\n",
              "      fill: #D2E3FC;\n",
              "    }\n",
              "\n",
              "    [theme=dark] .colab-df-convert:hover {\n",
              "      background-color: #434B5C;\n",
              "      box-shadow: 0px 1px 3px 1px rgba(0, 0, 0, 0.15);\n",
              "      filter: drop-shadow(0px 1px 2px rgba(0, 0, 0, 0.3));\n",
              "      fill: #FFFFFF;\n",
              "    }\n",
              "  </style>\n",
              "\n",
              "      <script>\n",
              "        const buttonEl =\n",
              "          document.querySelector('#df-dd9d5447-bbb7-4c11-9dee-3c24e5752a0b button.colab-df-convert');\n",
              "        buttonEl.style.display =\n",
              "          google.colab.kernel.accessAllowed ? 'block' : 'none';\n",
              "\n",
              "        async function convertToInteractive(key) {\n",
              "          const element = document.querySelector('#df-dd9d5447-bbb7-4c11-9dee-3c24e5752a0b');\n",
              "          const dataTable =\n",
              "            await google.colab.kernel.invokeFunction('convertToInteractive',\n",
              "                                                     [key], {});\n",
              "          if (!dataTable) return;\n",
              "\n",
              "          const docLinkHtml = 'Like what you see? Visit the ' +\n",
              "            '<a target=\"_blank\" href=https://colab.research.google.com/notebooks/data_table.ipynb>data table notebook</a>'\n",
              "            + ' to learn more about interactive tables.';\n",
              "          element.innerHTML = '';\n",
              "          dataTable['output_type'] = 'display_data';\n",
              "          await google.colab.output.renderOutput(dataTable, element);\n",
              "          const docLink = document.createElement('div');\n",
              "          docLink.innerHTML = docLinkHtml;\n",
              "          element.appendChild(docLink);\n",
              "        }\n",
              "      </script>\n",
              "    </div>\n",
              "  </div>\n",
              "  "
            ]
          },
          "metadata": {},
          "execution_count": 4
        }
      ]
    },
    {
      "cell_type": "code",
      "execution_count": 5,
      "metadata": {
        "id": "G8SZH3oTbS4z",
        "colab": {
          "base_uri": "https://localhost:8080/",
          "height": 285
        },
        "outputId": "361719e0-5bd3-4967-a8d7-266512e2a574"
      },
      "outputs": [
        {
          "output_type": "execute_result",
          "data": {
            "text/plain": [
              "    type  fixed acidity  volatile acidity  citric acid  residual sugar  \\\n",
              "0  white            7.0              0.27         0.36            20.7   \n",
              "1  white            6.3              0.30         0.34             1.6   \n",
              "2  white            8.1              0.28         0.40             6.9   \n",
              "3  white            7.2              0.23         0.32             8.5   \n",
              "4  white            7.2              0.23         0.32             8.5   \n",
              "\n",
              "   chlorides  free sulfur dioxide  total sulfur dioxide  density    pH  \\\n",
              "0      0.045                 45.0                 170.0   1.0010  3.00   \n",
              "1      0.049                 14.0                 132.0   0.9940  3.30   \n",
              "2      0.050                 30.0                  97.0   0.9951  3.26   \n",
              "3      0.058                 47.0                 186.0   0.9956  3.19   \n",
              "4      0.058                 47.0                 186.0   0.9956  3.19   \n",
              "\n",
              "   sulphates  alcohol  quality  \n",
              "0       0.45      8.8        6  \n",
              "1       0.49      9.5        6  \n",
              "2       0.44     10.1        6  \n",
              "3       0.40      9.9        6  \n",
              "4       0.40      9.9        6  "
            ],
            "text/html": [
              "\n",
              "  <div id=\"df-43bb8787-85b9-4fd1-820f-63fd602533f6\">\n",
              "    <div class=\"colab-df-container\">\n",
              "      <div>\n",
              "<style scoped>\n",
              "    .dataframe tbody tr th:only-of-type {\n",
              "        vertical-align: middle;\n",
              "    }\n",
              "\n",
              "    .dataframe tbody tr th {\n",
              "        vertical-align: top;\n",
              "    }\n",
              "\n",
              "    .dataframe thead th {\n",
              "        text-align: right;\n",
              "    }\n",
              "</style>\n",
              "<table border=\"1\" class=\"dataframe\">\n",
              "  <thead>\n",
              "    <tr style=\"text-align: right;\">\n",
              "      <th></th>\n",
              "      <th>type</th>\n",
              "      <th>fixed acidity</th>\n",
              "      <th>volatile acidity</th>\n",
              "      <th>citric acid</th>\n",
              "      <th>residual sugar</th>\n",
              "      <th>chlorides</th>\n",
              "      <th>free sulfur dioxide</th>\n",
              "      <th>total sulfur dioxide</th>\n",
              "      <th>density</th>\n",
              "      <th>pH</th>\n",
              "      <th>sulphates</th>\n",
              "      <th>alcohol</th>\n",
              "      <th>quality</th>\n",
              "    </tr>\n",
              "  </thead>\n",
              "  <tbody>\n",
              "    <tr>\n",
              "      <th>0</th>\n",
              "      <td>white</td>\n",
              "      <td>7.0</td>\n",
              "      <td>0.27</td>\n",
              "      <td>0.36</td>\n",
              "      <td>20.7</td>\n",
              "      <td>0.045</td>\n",
              "      <td>45.0</td>\n",
              "      <td>170.0</td>\n",
              "      <td>1.0010</td>\n",
              "      <td>3.00</td>\n",
              "      <td>0.45</td>\n",
              "      <td>8.8</td>\n",
              "      <td>6</td>\n",
              "    </tr>\n",
              "    <tr>\n",
              "      <th>1</th>\n",
              "      <td>white</td>\n",
              "      <td>6.3</td>\n",
              "      <td>0.30</td>\n",
              "      <td>0.34</td>\n",
              "      <td>1.6</td>\n",
              "      <td>0.049</td>\n",
              "      <td>14.0</td>\n",
              "      <td>132.0</td>\n",
              "      <td>0.9940</td>\n",
              "      <td>3.30</td>\n",
              "      <td>0.49</td>\n",
              "      <td>9.5</td>\n",
              "      <td>6</td>\n",
              "    </tr>\n",
              "    <tr>\n",
              "      <th>2</th>\n",
              "      <td>white</td>\n",
              "      <td>8.1</td>\n",
              "      <td>0.28</td>\n",
              "      <td>0.40</td>\n",
              "      <td>6.9</td>\n",
              "      <td>0.050</td>\n",
              "      <td>30.0</td>\n",
              "      <td>97.0</td>\n",
              "      <td>0.9951</td>\n",
              "      <td>3.26</td>\n",
              "      <td>0.44</td>\n",
              "      <td>10.1</td>\n",
              "      <td>6</td>\n",
              "    </tr>\n",
              "    <tr>\n",
              "      <th>3</th>\n",
              "      <td>white</td>\n",
              "      <td>7.2</td>\n",
              "      <td>0.23</td>\n",
              "      <td>0.32</td>\n",
              "      <td>8.5</td>\n",
              "      <td>0.058</td>\n",
              "      <td>47.0</td>\n",
              "      <td>186.0</td>\n",
              "      <td>0.9956</td>\n",
              "      <td>3.19</td>\n",
              "      <td>0.40</td>\n",
              "      <td>9.9</td>\n",
              "      <td>6</td>\n",
              "    </tr>\n",
              "    <tr>\n",
              "      <th>4</th>\n",
              "      <td>white</td>\n",
              "      <td>7.2</td>\n",
              "      <td>0.23</td>\n",
              "      <td>0.32</td>\n",
              "      <td>8.5</td>\n",
              "      <td>0.058</td>\n",
              "      <td>47.0</td>\n",
              "      <td>186.0</td>\n",
              "      <td>0.9956</td>\n",
              "      <td>3.19</td>\n",
              "      <td>0.40</td>\n",
              "      <td>9.9</td>\n",
              "      <td>6</td>\n",
              "    </tr>\n",
              "  </tbody>\n",
              "</table>\n",
              "</div>\n",
              "      <button class=\"colab-df-convert\" onclick=\"convertToInteractive('df-43bb8787-85b9-4fd1-820f-63fd602533f6')\"\n",
              "              title=\"Convert this dataframe to an interactive table.\"\n",
              "              style=\"display:none;\">\n",
              "        \n",
              "  <svg xmlns=\"http://www.w3.org/2000/svg\" height=\"24px\"viewBox=\"0 0 24 24\"\n",
              "       width=\"24px\">\n",
              "    <path d=\"M0 0h24v24H0V0z\" fill=\"none\"/>\n",
              "    <path d=\"M18.56 5.44l.94 2.06.94-2.06 2.06-.94-2.06-.94-.94-2.06-.94 2.06-2.06.94zm-11 1L8.5 8.5l.94-2.06 2.06-.94-2.06-.94L8.5 2.5l-.94 2.06-2.06.94zm10 10l.94 2.06.94-2.06 2.06-.94-2.06-.94-.94-2.06-.94 2.06-2.06.94z\"/><path d=\"M17.41 7.96l-1.37-1.37c-.4-.4-.92-.59-1.43-.59-.52 0-1.04.2-1.43.59L10.3 9.45l-7.72 7.72c-.78.78-.78 2.05 0 2.83L4 21.41c.39.39.9.59 1.41.59.51 0 1.02-.2 1.41-.59l7.78-7.78 2.81-2.81c.8-.78.8-2.07 0-2.86zM5.41 20L4 18.59l7.72-7.72 1.47 1.35L5.41 20z\"/>\n",
              "  </svg>\n",
              "      </button>\n",
              "      \n",
              "  <style>\n",
              "    .colab-df-container {\n",
              "      display:flex;\n",
              "      flex-wrap:wrap;\n",
              "      gap: 12px;\n",
              "    }\n",
              "\n",
              "    .colab-df-convert {\n",
              "      background-color: #E8F0FE;\n",
              "      border: none;\n",
              "      border-radius: 50%;\n",
              "      cursor: pointer;\n",
              "      display: none;\n",
              "      fill: #1967D2;\n",
              "      height: 32px;\n",
              "      padding: 0 0 0 0;\n",
              "      width: 32px;\n",
              "    }\n",
              "\n",
              "    .colab-df-convert:hover {\n",
              "      background-color: #E2EBFA;\n",
              "      box-shadow: 0px 1px 2px rgba(60, 64, 67, 0.3), 0px 1px 3px 1px rgba(60, 64, 67, 0.15);\n",
              "      fill: #174EA6;\n",
              "    }\n",
              "\n",
              "    [theme=dark] .colab-df-convert {\n",
              "      background-color: #3B4455;\n",
              "      fill: #D2E3FC;\n",
              "    }\n",
              "\n",
              "    [theme=dark] .colab-df-convert:hover {\n",
              "      background-color: #434B5C;\n",
              "      box-shadow: 0px 1px 3px 1px rgba(0, 0, 0, 0.15);\n",
              "      filter: drop-shadow(0px 1px 2px rgba(0, 0, 0, 0.3));\n",
              "      fill: #FFFFFF;\n",
              "    }\n",
              "  </style>\n",
              "\n",
              "      <script>\n",
              "        const buttonEl =\n",
              "          document.querySelector('#df-43bb8787-85b9-4fd1-820f-63fd602533f6 button.colab-df-convert');\n",
              "        buttonEl.style.display =\n",
              "          google.colab.kernel.accessAllowed ? 'block' : 'none';\n",
              "\n",
              "        async function convertToInteractive(key) {\n",
              "          const element = document.querySelector('#df-43bb8787-85b9-4fd1-820f-63fd602533f6');\n",
              "          const dataTable =\n",
              "            await google.colab.kernel.invokeFunction('convertToInteractive',\n",
              "                                                     [key], {});\n",
              "          if (!dataTable) return;\n",
              "\n",
              "          const docLinkHtml = 'Like what you see? Visit the ' +\n",
              "            '<a target=\"_blank\" href=https://colab.research.google.com/notebooks/data_table.ipynb>data table notebook</a>'\n",
              "            + ' to learn more about interactive tables.';\n",
              "          element.innerHTML = '';\n",
              "          dataTable['output_type'] = 'display_data';\n",
              "          await google.colab.output.renderOutput(dataTable, element);\n",
              "          const docLink = document.createElement('div');\n",
              "          docLink.innerHTML = docLinkHtml;\n",
              "          element.appendChild(docLink);\n",
              "        }\n",
              "      </script>\n",
              "    </div>\n",
              "  </div>\n",
              "  "
            ]
          },
          "metadata": {},
          "execution_count": 5
        }
      ],
      "source": [
        "ds.head(5)"
      ]
    },
    {
      "cell_type": "code",
      "source": [
        "ds.tail(5)"
      ],
      "metadata": {
        "id": "9XUce0LIFdYB",
        "colab": {
          "base_uri": "https://localhost:8080/",
          "height": 285
        },
        "outputId": "df2ceb6e-2646-4b20-c1f3-28312326a535"
      },
      "execution_count": 6,
      "outputs": [
        {
          "output_type": "execute_result",
          "data": {
            "text/plain": [
              "     type  fixed acidity  volatile acidity  citric acid  residual sugar  \\\n",
              "6492  red            6.2             0.600         0.08             2.0   \n",
              "6493  red            5.9             0.550         0.10             2.2   \n",
              "6494  red            6.3             0.510         0.13             2.3   \n",
              "6495  red            5.9             0.645         0.12             2.0   \n",
              "6496  red            6.0             0.310         0.47             3.6   \n",
              "\n",
              "      chlorides  free sulfur dioxide  total sulfur dioxide  density    pH  \\\n",
              "6492      0.090                 32.0                  44.0  0.99490  3.45   \n",
              "6493      0.062                 39.0                  51.0  0.99512  3.52   \n",
              "6494      0.076                 29.0                  40.0  0.99574  3.42   \n",
              "6495      0.075                 32.0                  44.0  0.99547  3.57   \n",
              "6496      0.067                 18.0                  42.0  0.99549  3.39   \n",
              "\n",
              "      sulphates  alcohol  quality  \n",
              "6492       0.58     10.5        5  \n",
              "6493        NaN     11.2        6  \n",
              "6494       0.75     11.0        6  \n",
              "6495       0.71     10.2        5  \n",
              "6496       0.66     11.0        6  "
            ],
            "text/html": [
              "\n",
              "  <div id=\"df-77b8081c-17f5-446b-b861-79fd3821d043\">\n",
              "    <div class=\"colab-df-container\">\n",
              "      <div>\n",
              "<style scoped>\n",
              "    .dataframe tbody tr th:only-of-type {\n",
              "        vertical-align: middle;\n",
              "    }\n",
              "\n",
              "    .dataframe tbody tr th {\n",
              "        vertical-align: top;\n",
              "    }\n",
              "\n",
              "    .dataframe thead th {\n",
              "        text-align: right;\n",
              "    }\n",
              "</style>\n",
              "<table border=\"1\" class=\"dataframe\">\n",
              "  <thead>\n",
              "    <tr style=\"text-align: right;\">\n",
              "      <th></th>\n",
              "      <th>type</th>\n",
              "      <th>fixed acidity</th>\n",
              "      <th>volatile acidity</th>\n",
              "      <th>citric acid</th>\n",
              "      <th>residual sugar</th>\n",
              "      <th>chlorides</th>\n",
              "      <th>free sulfur dioxide</th>\n",
              "      <th>total sulfur dioxide</th>\n",
              "      <th>density</th>\n",
              "      <th>pH</th>\n",
              "      <th>sulphates</th>\n",
              "      <th>alcohol</th>\n",
              "      <th>quality</th>\n",
              "    </tr>\n",
              "  </thead>\n",
              "  <tbody>\n",
              "    <tr>\n",
              "      <th>6492</th>\n",
              "      <td>red</td>\n",
              "      <td>6.2</td>\n",
              "      <td>0.600</td>\n",
              "      <td>0.08</td>\n",
              "      <td>2.0</td>\n",
              "      <td>0.090</td>\n",
              "      <td>32.0</td>\n",
              "      <td>44.0</td>\n",
              "      <td>0.99490</td>\n",
              "      <td>3.45</td>\n",
              "      <td>0.58</td>\n",
              "      <td>10.5</td>\n",
              "      <td>5</td>\n",
              "    </tr>\n",
              "    <tr>\n",
              "      <th>6493</th>\n",
              "      <td>red</td>\n",
              "      <td>5.9</td>\n",
              "      <td>0.550</td>\n",
              "      <td>0.10</td>\n",
              "      <td>2.2</td>\n",
              "      <td>0.062</td>\n",
              "      <td>39.0</td>\n",
              "      <td>51.0</td>\n",
              "      <td>0.99512</td>\n",
              "      <td>3.52</td>\n",
              "      <td>NaN</td>\n",
              "      <td>11.2</td>\n",
              "      <td>6</td>\n",
              "    </tr>\n",
              "    <tr>\n",
              "      <th>6494</th>\n",
              "      <td>red</td>\n",
              "      <td>6.3</td>\n",
              "      <td>0.510</td>\n",
              "      <td>0.13</td>\n",
              "      <td>2.3</td>\n",
              "      <td>0.076</td>\n",
              "      <td>29.0</td>\n",
              "      <td>40.0</td>\n",
              "      <td>0.99574</td>\n",
              "      <td>3.42</td>\n",
              "      <td>0.75</td>\n",
              "      <td>11.0</td>\n",
              "      <td>6</td>\n",
              "    </tr>\n",
              "    <tr>\n",
              "      <th>6495</th>\n",
              "      <td>red</td>\n",
              "      <td>5.9</td>\n",
              "      <td>0.645</td>\n",
              "      <td>0.12</td>\n",
              "      <td>2.0</td>\n",
              "      <td>0.075</td>\n",
              "      <td>32.0</td>\n",
              "      <td>44.0</td>\n",
              "      <td>0.99547</td>\n",
              "      <td>3.57</td>\n",
              "      <td>0.71</td>\n",
              "      <td>10.2</td>\n",
              "      <td>5</td>\n",
              "    </tr>\n",
              "    <tr>\n",
              "      <th>6496</th>\n",
              "      <td>red</td>\n",
              "      <td>6.0</td>\n",
              "      <td>0.310</td>\n",
              "      <td>0.47</td>\n",
              "      <td>3.6</td>\n",
              "      <td>0.067</td>\n",
              "      <td>18.0</td>\n",
              "      <td>42.0</td>\n",
              "      <td>0.99549</td>\n",
              "      <td>3.39</td>\n",
              "      <td>0.66</td>\n",
              "      <td>11.0</td>\n",
              "      <td>6</td>\n",
              "    </tr>\n",
              "  </tbody>\n",
              "</table>\n",
              "</div>\n",
              "      <button class=\"colab-df-convert\" onclick=\"convertToInteractive('df-77b8081c-17f5-446b-b861-79fd3821d043')\"\n",
              "              title=\"Convert this dataframe to an interactive table.\"\n",
              "              style=\"display:none;\">\n",
              "        \n",
              "  <svg xmlns=\"http://www.w3.org/2000/svg\" height=\"24px\"viewBox=\"0 0 24 24\"\n",
              "       width=\"24px\">\n",
              "    <path d=\"M0 0h24v24H0V0z\" fill=\"none\"/>\n",
              "    <path d=\"M18.56 5.44l.94 2.06.94-2.06 2.06-.94-2.06-.94-.94-2.06-.94 2.06-2.06.94zm-11 1L8.5 8.5l.94-2.06 2.06-.94-2.06-.94L8.5 2.5l-.94 2.06-2.06.94zm10 10l.94 2.06.94-2.06 2.06-.94-2.06-.94-.94-2.06-.94 2.06-2.06.94z\"/><path d=\"M17.41 7.96l-1.37-1.37c-.4-.4-.92-.59-1.43-.59-.52 0-1.04.2-1.43.59L10.3 9.45l-7.72 7.72c-.78.78-.78 2.05 0 2.83L4 21.41c.39.39.9.59 1.41.59.51 0 1.02-.2 1.41-.59l7.78-7.78 2.81-2.81c.8-.78.8-2.07 0-2.86zM5.41 20L4 18.59l7.72-7.72 1.47 1.35L5.41 20z\"/>\n",
              "  </svg>\n",
              "      </button>\n",
              "      \n",
              "  <style>\n",
              "    .colab-df-container {\n",
              "      display:flex;\n",
              "      flex-wrap:wrap;\n",
              "      gap: 12px;\n",
              "    }\n",
              "\n",
              "    .colab-df-convert {\n",
              "      background-color: #E8F0FE;\n",
              "      border: none;\n",
              "      border-radius: 50%;\n",
              "      cursor: pointer;\n",
              "      display: none;\n",
              "      fill: #1967D2;\n",
              "      height: 32px;\n",
              "      padding: 0 0 0 0;\n",
              "      width: 32px;\n",
              "    }\n",
              "\n",
              "    .colab-df-convert:hover {\n",
              "      background-color: #E2EBFA;\n",
              "      box-shadow: 0px 1px 2px rgba(60, 64, 67, 0.3), 0px 1px 3px 1px rgba(60, 64, 67, 0.15);\n",
              "      fill: #174EA6;\n",
              "    }\n",
              "\n",
              "    [theme=dark] .colab-df-convert {\n",
              "      background-color: #3B4455;\n",
              "      fill: #D2E3FC;\n",
              "    }\n",
              "\n",
              "    [theme=dark] .colab-df-convert:hover {\n",
              "      background-color: #434B5C;\n",
              "      box-shadow: 0px 1px 3px 1px rgba(0, 0, 0, 0.15);\n",
              "      filter: drop-shadow(0px 1px 2px rgba(0, 0, 0, 0.3));\n",
              "      fill: #FFFFFF;\n",
              "    }\n",
              "  </style>\n",
              "\n",
              "      <script>\n",
              "        const buttonEl =\n",
              "          document.querySelector('#df-77b8081c-17f5-446b-b861-79fd3821d043 button.colab-df-convert');\n",
              "        buttonEl.style.display =\n",
              "          google.colab.kernel.accessAllowed ? 'block' : 'none';\n",
              "\n",
              "        async function convertToInteractive(key) {\n",
              "          const element = document.querySelector('#df-77b8081c-17f5-446b-b861-79fd3821d043');\n",
              "          const dataTable =\n",
              "            await google.colab.kernel.invokeFunction('convertToInteractive',\n",
              "                                                     [key], {});\n",
              "          if (!dataTable) return;\n",
              "\n",
              "          const docLinkHtml = 'Like what you see? Visit the ' +\n",
              "            '<a target=\"_blank\" href=https://colab.research.google.com/notebooks/data_table.ipynb>data table notebook</a>'\n",
              "            + ' to learn more about interactive tables.';\n",
              "          element.innerHTML = '';\n",
              "          dataTable['output_type'] = 'display_data';\n",
              "          await google.colab.output.renderOutput(dataTable, element);\n",
              "          const docLink = document.createElement('div');\n",
              "          docLink.innerHTML = docLinkHtml;\n",
              "          element.appendChild(docLink);\n",
              "        }\n",
              "      </script>\n",
              "    </div>\n",
              "  </div>\n",
              "  "
            ]
          },
          "metadata": {},
          "execution_count": 6
        }
      ]
    },
    {
      "cell_type": "code",
      "execution_count": 7,
      "metadata": {
        "id": "PNlAhVS6Zogx",
        "colab": {
          "base_uri": "https://localhost:8080/"
        },
        "outputId": "feaaec6e-cb14-416b-d142-0225daef2fee"
      },
      "outputs": [
        {
          "output_type": "execute_result",
          "data": {
            "text/plain": [
              "(6497, 13)"
            ]
          },
          "metadata": {},
          "execution_count": 7
        }
      ],
      "source": [
        "ds.shape"
      ]
    },
    {
      "cell_type": "markdown",
      "source": [
        "* `type` `_________________`: Wine type (red, white)\n",
        "* `fixed acidity` `________`: Tartaric acid (gram / liter)\n",
        "* `volatile acidity` `_____`: Acetic acid (gram / liter)\n",
        "* `citric acid` `__________`: Citric acid (gram / liter)\n",
        "* `residual sugar` `_______`: Residual sugar (gram / liter)\n",
        "* `chlorides ` `____________`: Natrium Chloride (gram / liter)\n",
        "* `free sulfur dioxide` `__`: Free Sulphur Dioxide (miligram / liter)\n",
        "* `total sulfur dioxide` `_`: Free and bound Sulphur Dioxide (miligram / liter)\n",
        "* `density` `______________`: Density (gram / mililiter)\n",
        "* `pH` `___________________`: Acidity (pH)\n",
        "* `sulphates` `____________`: Kalium Sulphate (gram / liter)\n",
        "* `alcohol` `______________`: Alcohol content (%)\n",
        "* `quality` `______________`: Grade of the wine (1 to 10)"
      ],
      "metadata": {
        "id": "JYxQqJtiNv5R"
      }
    },
    {
      "cell_type": "markdown",
      "metadata": {
        "id": "cfo05e5aa5OG"
      },
      "source": [
        "The dataframe has 6497 observations with 13 variables. Only 1 of them is categorical and the rest are numerical.\n",
        "\n",
        "We are going to use column `quality ` as our prediction target. The numeric grade will be reduced into category grade."
      ]
    },
    {
      "cell_type": "markdown",
      "source": [
        "Let's have a deeper look at the dataset through statistics."
      ],
      "metadata": {
        "id": "zEdFqz4xn3Su"
      }
    },
    {
      "cell_type": "code",
      "source": [
        "ds.info()"
      ],
      "metadata": {
        "id": "xmJO04FeN38U",
        "colab": {
          "base_uri": "https://localhost:8080/"
        },
        "outputId": "a465cc0d-20a2-4354-c5e3-3b9383caee19"
      },
      "execution_count": 8,
      "outputs": [
        {
          "output_type": "stream",
          "name": "stdout",
          "text": [
            "<class 'pandas.core.frame.DataFrame'>\n",
            "RangeIndex: 6497 entries, 0 to 6496\n",
            "Data columns (total 13 columns):\n",
            " #   Column                Non-Null Count  Dtype  \n",
            "---  ------                --------------  -----  \n",
            " 0   type                  6497 non-null   object \n",
            " 1   fixed acidity         6487 non-null   float64\n",
            " 2   volatile acidity      6489 non-null   float64\n",
            " 3   citric acid           6494 non-null   float64\n",
            " 4   residual sugar        6495 non-null   float64\n",
            " 5   chlorides             6495 non-null   float64\n",
            " 6   free sulfur dioxide   6497 non-null   float64\n",
            " 7   total sulfur dioxide  6497 non-null   float64\n",
            " 8   density               6497 non-null   float64\n",
            " 9   pH                    6488 non-null   float64\n",
            " 10  sulphates             6493 non-null   float64\n",
            " 11  alcohol               6497 non-null   float64\n",
            " 12  quality               6497 non-null   int64  \n",
            "dtypes: float64(11), int64(1), object(1)\n",
            "memory usage: 660.0+ KB\n"
          ]
        }
      ]
    },
    {
      "cell_type": "code",
      "source": [
        "ds.describe()"
      ],
      "metadata": {
        "id": "eH0SveE7NaXx",
        "colab": {
          "base_uri": "https://localhost:8080/",
          "height": 399
        },
        "outputId": "1c1c1e75-c968-40ed-cb7b-54ad9b1f4c02"
      },
      "execution_count": null,
      "outputs": [
        {
          "output_type": "execute_result",
          "data": {
            "text/plain": [
              "       fixed acidity  volatile acidity  citric acid  residual sugar  \\\n",
              "count    6487.000000       6489.000000  6494.000000     6495.000000   \n",
              "mean        7.216579          0.339691     0.318722        5.444326   \n",
              "std         1.296750          0.164649     0.145265        4.758125   \n",
              "min         3.800000          0.080000     0.000000        0.600000   \n",
              "25%         6.400000          0.230000     0.250000        1.800000   \n",
              "50%         7.000000          0.290000     0.310000        3.000000   \n",
              "75%         7.700000          0.400000     0.390000        8.100000   \n",
              "max        15.900000          1.580000     1.660000       65.800000   \n",
              "\n",
              "         chlorides  free sulfur dioxide  total sulfur dioxide      density  \\\n",
              "count  6495.000000          6497.000000           6497.000000  6497.000000   \n",
              "mean      0.056042            30.525319            115.744574     0.994697   \n",
              "std       0.035036            17.749400             56.521855     0.002999   \n",
              "min       0.009000             1.000000              6.000000     0.987110   \n",
              "25%       0.038000            17.000000             77.000000     0.992340   \n",
              "50%       0.047000            29.000000            118.000000     0.994890   \n",
              "75%       0.065000            41.000000            156.000000     0.996990   \n",
              "max       0.611000           289.000000            440.000000     1.038980   \n",
              "\n",
              "                pH    sulphates      alcohol      quality  \n",
              "count  6488.000000  6493.000000  6497.000000  6497.000000  \n",
              "mean      3.218395     0.531215    10.491801     5.818378  \n",
              "std       0.160748     0.148814     1.192712     0.873255  \n",
              "min       2.720000     0.220000     8.000000     3.000000  \n",
              "25%       3.110000     0.430000     9.500000     5.000000  \n",
              "50%       3.210000     0.510000    10.300000     6.000000  \n",
              "75%       3.320000     0.600000    11.300000     6.000000  \n",
              "max       4.010000     2.000000    14.900000     9.000000  "
            ],
            "text/html": [
              "\n",
              "  <div id=\"df-a8ea9c30-53c0-4ec3-b79d-d09d5677bd59\">\n",
              "    <div class=\"colab-df-container\">\n",
              "      <div>\n",
              "<style scoped>\n",
              "    .dataframe tbody tr th:only-of-type {\n",
              "        vertical-align: middle;\n",
              "    }\n",
              "\n",
              "    .dataframe tbody tr th {\n",
              "        vertical-align: top;\n",
              "    }\n",
              "\n",
              "    .dataframe thead th {\n",
              "        text-align: right;\n",
              "    }\n",
              "</style>\n",
              "<table border=\"1\" class=\"dataframe\">\n",
              "  <thead>\n",
              "    <tr style=\"text-align: right;\">\n",
              "      <th></th>\n",
              "      <th>fixed acidity</th>\n",
              "      <th>volatile acidity</th>\n",
              "      <th>citric acid</th>\n",
              "      <th>residual sugar</th>\n",
              "      <th>chlorides</th>\n",
              "      <th>free sulfur dioxide</th>\n",
              "      <th>total sulfur dioxide</th>\n",
              "      <th>density</th>\n",
              "      <th>pH</th>\n",
              "      <th>sulphates</th>\n",
              "      <th>alcohol</th>\n",
              "      <th>quality</th>\n",
              "    </tr>\n",
              "  </thead>\n",
              "  <tbody>\n",
              "    <tr>\n",
              "      <th>count</th>\n",
              "      <td>6487.000000</td>\n",
              "      <td>6489.000000</td>\n",
              "      <td>6494.000000</td>\n",
              "      <td>6495.000000</td>\n",
              "      <td>6495.000000</td>\n",
              "      <td>6497.000000</td>\n",
              "      <td>6497.000000</td>\n",
              "      <td>6497.000000</td>\n",
              "      <td>6488.000000</td>\n",
              "      <td>6493.000000</td>\n",
              "      <td>6497.000000</td>\n",
              "      <td>6497.000000</td>\n",
              "    </tr>\n",
              "    <tr>\n",
              "      <th>mean</th>\n",
              "      <td>7.216579</td>\n",
              "      <td>0.339691</td>\n",
              "      <td>0.318722</td>\n",
              "      <td>5.444326</td>\n",
              "      <td>0.056042</td>\n",
              "      <td>30.525319</td>\n",
              "      <td>115.744574</td>\n",
              "      <td>0.994697</td>\n",
              "      <td>3.218395</td>\n",
              "      <td>0.531215</td>\n",
              "      <td>10.491801</td>\n",
              "      <td>5.818378</td>\n",
              "    </tr>\n",
              "    <tr>\n",
              "      <th>std</th>\n",
              "      <td>1.296750</td>\n",
              "      <td>0.164649</td>\n",
              "      <td>0.145265</td>\n",
              "      <td>4.758125</td>\n",
              "      <td>0.035036</td>\n",
              "      <td>17.749400</td>\n",
              "      <td>56.521855</td>\n",
              "      <td>0.002999</td>\n",
              "      <td>0.160748</td>\n",
              "      <td>0.148814</td>\n",
              "      <td>1.192712</td>\n",
              "      <td>0.873255</td>\n",
              "    </tr>\n",
              "    <tr>\n",
              "      <th>min</th>\n",
              "      <td>3.800000</td>\n",
              "      <td>0.080000</td>\n",
              "      <td>0.000000</td>\n",
              "      <td>0.600000</td>\n",
              "      <td>0.009000</td>\n",
              "      <td>1.000000</td>\n",
              "      <td>6.000000</td>\n",
              "      <td>0.987110</td>\n",
              "      <td>2.720000</td>\n",
              "      <td>0.220000</td>\n",
              "      <td>8.000000</td>\n",
              "      <td>3.000000</td>\n",
              "    </tr>\n",
              "    <tr>\n",
              "      <th>25%</th>\n",
              "      <td>6.400000</td>\n",
              "      <td>0.230000</td>\n",
              "      <td>0.250000</td>\n",
              "      <td>1.800000</td>\n",
              "      <td>0.038000</td>\n",
              "      <td>17.000000</td>\n",
              "      <td>77.000000</td>\n",
              "      <td>0.992340</td>\n",
              "      <td>3.110000</td>\n",
              "      <td>0.430000</td>\n",
              "      <td>9.500000</td>\n",
              "      <td>5.000000</td>\n",
              "    </tr>\n",
              "    <tr>\n",
              "      <th>50%</th>\n",
              "      <td>7.000000</td>\n",
              "      <td>0.290000</td>\n",
              "      <td>0.310000</td>\n",
              "      <td>3.000000</td>\n",
              "      <td>0.047000</td>\n",
              "      <td>29.000000</td>\n",
              "      <td>118.000000</td>\n",
              "      <td>0.994890</td>\n",
              "      <td>3.210000</td>\n",
              "      <td>0.510000</td>\n",
              "      <td>10.300000</td>\n",
              "      <td>6.000000</td>\n",
              "    </tr>\n",
              "    <tr>\n",
              "      <th>75%</th>\n",
              "      <td>7.700000</td>\n",
              "      <td>0.400000</td>\n",
              "      <td>0.390000</td>\n",
              "      <td>8.100000</td>\n",
              "      <td>0.065000</td>\n",
              "      <td>41.000000</td>\n",
              "      <td>156.000000</td>\n",
              "      <td>0.996990</td>\n",
              "      <td>3.320000</td>\n",
              "      <td>0.600000</td>\n",
              "      <td>11.300000</td>\n",
              "      <td>6.000000</td>\n",
              "    </tr>\n",
              "    <tr>\n",
              "      <th>max</th>\n",
              "      <td>15.900000</td>\n",
              "      <td>1.580000</td>\n",
              "      <td>1.660000</td>\n",
              "      <td>65.800000</td>\n",
              "      <td>0.611000</td>\n",
              "      <td>289.000000</td>\n",
              "      <td>440.000000</td>\n",
              "      <td>1.038980</td>\n",
              "      <td>4.010000</td>\n",
              "      <td>2.000000</td>\n",
              "      <td>14.900000</td>\n",
              "      <td>9.000000</td>\n",
              "    </tr>\n",
              "  </tbody>\n",
              "</table>\n",
              "</div>\n",
              "      <button class=\"colab-df-convert\" onclick=\"convertToInteractive('df-a8ea9c30-53c0-4ec3-b79d-d09d5677bd59')\"\n",
              "              title=\"Convert this dataframe to an interactive table.\"\n",
              "              style=\"display:none;\">\n",
              "        \n",
              "  <svg xmlns=\"http://www.w3.org/2000/svg\" height=\"24px\"viewBox=\"0 0 24 24\"\n",
              "       width=\"24px\">\n",
              "    <path d=\"M0 0h24v24H0V0z\" fill=\"none\"/>\n",
              "    <path d=\"M18.56 5.44l.94 2.06.94-2.06 2.06-.94-2.06-.94-.94-2.06-.94 2.06-2.06.94zm-11 1L8.5 8.5l.94-2.06 2.06-.94-2.06-.94L8.5 2.5l-.94 2.06-2.06.94zm10 10l.94 2.06.94-2.06 2.06-.94-2.06-.94-.94-2.06-.94 2.06-2.06.94z\"/><path d=\"M17.41 7.96l-1.37-1.37c-.4-.4-.92-.59-1.43-.59-.52 0-1.04.2-1.43.59L10.3 9.45l-7.72 7.72c-.78.78-.78 2.05 0 2.83L4 21.41c.39.39.9.59 1.41.59.51 0 1.02-.2 1.41-.59l7.78-7.78 2.81-2.81c.8-.78.8-2.07 0-2.86zM5.41 20L4 18.59l7.72-7.72 1.47 1.35L5.41 20z\"/>\n",
              "  </svg>\n",
              "      </button>\n",
              "      \n",
              "  <style>\n",
              "    .colab-df-container {\n",
              "      display:flex;\n",
              "      flex-wrap:wrap;\n",
              "      gap: 12px;\n",
              "    }\n",
              "\n",
              "    .colab-df-convert {\n",
              "      background-color: #E8F0FE;\n",
              "      border: none;\n",
              "      border-radius: 50%;\n",
              "      cursor: pointer;\n",
              "      display: none;\n",
              "      fill: #1967D2;\n",
              "      height: 32px;\n",
              "      padding: 0 0 0 0;\n",
              "      width: 32px;\n",
              "    }\n",
              "\n",
              "    .colab-df-convert:hover {\n",
              "      background-color: #E2EBFA;\n",
              "      box-shadow: 0px 1px 2px rgba(60, 64, 67, 0.3), 0px 1px 3px 1px rgba(60, 64, 67, 0.15);\n",
              "      fill: #174EA6;\n",
              "    }\n",
              "\n",
              "    [theme=dark] .colab-df-convert {\n",
              "      background-color: #3B4455;\n",
              "      fill: #D2E3FC;\n",
              "    }\n",
              "\n",
              "    [theme=dark] .colab-df-convert:hover {\n",
              "      background-color: #434B5C;\n",
              "      box-shadow: 0px 1px 3px 1px rgba(0, 0, 0, 0.15);\n",
              "      filter: drop-shadow(0px 1px 2px rgba(0, 0, 0, 0.3));\n",
              "      fill: #FFFFFF;\n",
              "    }\n",
              "  </style>\n",
              "\n",
              "      <script>\n",
              "        const buttonEl =\n",
              "          document.querySelector('#df-a8ea9c30-53c0-4ec3-b79d-d09d5677bd59 button.colab-df-convert');\n",
              "        buttonEl.style.display =\n",
              "          google.colab.kernel.accessAllowed ? 'block' : 'none';\n",
              "\n",
              "        async function convertToInteractive(key) {\n",
              "          const element = document.querySelector('#df-a8ea9c30-53c0-4ec3-b79d-d09d5677bd59');\n",
              "          const dataTable =\n",
              "            await google.colab.kernel.invokeFunction('convertToInteractive',\n",
              "                                                     [key], {});\n",
              "          if (!dataTable) return;\n",
              "\n",
              "          const docLinkHtml = 'Like what you see? Visit the ' +\n",
              "            '<a target=\"_blank\" href=https://colab.research.google.com/notebooks/data_table.ipynb>data table notebook</a>'\n",
              "            + ' to learn more about interactive tables.';\n",
              "          element.innerHTML = '';\n",
              "          dataTable['output_type'] = 'display_data';\n",
              "          await google.colab.output.renderOutput(dataTable, element);\n",
              "          const docLink = document.createElement('div');\n",
              "          docLink.innerHTML = docLinkHtml;\n",
              "          element.appendChild(docLink);\n",
              "        }\n",
              "      </script>\n",
              "    </div>\n",
              "  </div>\n",
              "  "
            ]
          },
          "metadata": {},
          "execution_count": 16
        }
      ]
    },
    {
      "cell_type": "code",
      "source": [
        "plot_bar(ds, 'type')"
      ],
      "metadata": {
        "colab": {
          "base_uri": "https://localhost:8080/",
          "height": 281
        },
        "id": "dGvM6qnXNZUf",
        "outputId": "bce3571d-394a-41b2-90e2-d413ada8efa4"
      },
      "execution_count": null,
      "outputs": [
        {
          "output_type": "display_data",
          "data": {
            "text/plain": [
              "<Figure size 720x288 with 1 Axes>"
            ],
            "image/png": "[encoded data removed]"
          },
          "metadata": {
            "needs_background": "light"
          }
        }
      ]
    },
    {
      "cell_type": "code",
      "source": [
        "num_cols = np.array(ds.columns).tolist()\n",
        "num_cols.remove('type')\n",
        "\n",
        "for n in num_cols:\n",
        "  plot_hist_box(ds, n)\n",
        "  skewness = ds[n].skew()\n",
        "  print('\\nSkewness Value : ', skewness)\n",
        "  if ds[n].skew() >=-0.5 and ds[n].skew() <0.5:\n",
        "    print(f'Variable is not skewed')\n",
        "  else:\n",
        "    print(f'Variable is skewed')\n",
        "  upper_boundary, lower_boundary = boundaries(ds, n)\n",
        "  outliers(ds, n, 1.5, upper_boundary, lower_boundary)"
      ],
      "metadata": {
        "colab": {
          "base_uri": "https://localhost:8080/",
          "height": 1000
        },
        "id": "g4Gimt20oQOc",
        "outputId": "b3ef3fad-1dd5-48ba-c2c7-f5e2b9a90c91"
      },
      "execution_count": null,
      "outputs": [
        {
          "output_type": "display_data",
          "data": {
            "text/plain": [
              "<Figure size 1152x288 with 2 Axes>"
            ],
            "image/png": "[encoded data removed]"
          },
          "metadata": {
            "needs_background": "light"
          }
        },
        {
          "output_type": "stream",
          "name": "stdout",
          "text": [
            "\n",
            "Skewness Value :  1.7228045308969795\n",
            "Variable is skewed\n",
            "Number of data : 6497\n",
            "Upper Outlier  : 860\n",
            "Lower Outlier  : 394\n",
            "Total Outlier  : 1254\n",
            "% outlier : 19.30121594582115 %\n"
          ]
        },
        {
          "output_type": "display_data",
          "data": {
            "text/plain": [
              "<Figure size 1152x288 with 2 Axes>"
            ],
            "image/png": "[encoded data removed]"
          },
          "metadata": {
            "needs_background": "light"
          }
        },
        {
          "output_type": "stream",
          "name": "stdout",
          "text": [
            "\n",
            "Skewness Value :  1.4955115856471894\n",
            "Variable is skewed\n",
            "Number of data : 6497\n",
            "Upper Outlier  : 1106\n",
            "Lower Outlier  : 178\n",
            "Total Outlier  : 1284\n",
            "% outlier : 19.762967523472373 %\n"
          ]
        },
        {
          "output_type": "display_data",
          "data": {
            "text/plain": [
              "<Figure size 1152x288 with 2 Axes>"
            ],
            "image/png": "[encoded data removed]"
          },
          "metadata": {
            "needs_background": "light"
          }
        },
        {
          "output_type": "stream",
          "name": "stdout",
          "text": [
            "\n",
            "Skewness Value :  0.4730324266140668\n",
            "Variable is not skewed\n",
            "Number of data : 6497\n",
            "Upper Outlier  : 28\n",
            "Lower Outlier  : 0\n",
            "Total Outlier  : 28\n",
            "% outlier : 0.43096813914114207 %\n"
          ]
        },
        {
          "output_type": "display_data",
          "data": {
            "text/plain": [
              "<Figure size 1152x288 with 2 Axes>"
            ],
            "image/png": "[encoded data removed]"
          },
          "metadata": {
            "needs_background": "light"
          }
        },
        {
          "output_type": "stream",
          "name": "stdout",
          "text": [
            "\n",
            "Skewness Value :  1.4349998392718966\n",
            "Variable is skewed\n",
            "Number of data : 6497\n",
            "Upper Outlier  : 969\n",
            "Lower Outlier  : 0\n",
            "Total Outlier  : 969\n",
            "% outlier : 14.914575958134524 %\n"
          ]
        },
        {
          "output_type": "display_data",
          "data": {
            "text/plain": [
              "<Figure size 1152x288 with 2 Axes>"
            ],
            "image/png": "[encoded data removed]"
          },
          "metadata": {
            "needs_background": "light"
          }
        },
        {
          "output_type": "stream",
          "name": "stdout",
          "text": [
            "\n",
            "Skewness Value :  5.399848762544374\n",
            "Variable is skewed\n",
            "Number of data : 6497\n",
            "Upper Outlier  : 1006\n",
            "Lower Outlier  : 149\n",
            "Total Outlier  : 1155\n",
            "% outlier : 17.77743573957211 %\n"
          ]
        },
        {
          "output_type": "display_data",
          "data": {
            "text/plain": [
              "<Figure size 1152x288 with 2 Axes>"
            ],
            "image/png": "[encoded data removed]"
          },
          "metadata": {
            "needs_background": "light"
          }
        },
        {
          "output_type": "stream",
          "name": "stdout",
          "text": [
            "\n",
            "Skewness Value :  1.2200660740665203\n",
            "Variable is skewed\n",
            "Number of data : 6497\n",
            "Upper Outlier  : 675\n",
            "Lower Outlier  : 116\n",
            "Total Outlier  : 791\n",
            "% outlier : 12.174849930737263 %\n"
          ]
        },
        {
          "output_type": "display_data",
          "data": {
            "text/plain": [
              "<Figure size 1152x288 with 2 Axes>"
            ],
            "image/png": "[encoded data removed]"
          },
          "metadata": {
            "needs_background": "light"
          }
        },
        {
          "output_type": "stream",
          "name": "stdout",
          "text": [
            "\n",
            "Skewness Value :  -0.001177478234437964\n",
            "Variable is not skewed\n",
            "Number of data : 6497\n",
            "Upper Outlier  : 8\n",
            "Lower Outlier  : 0\n",
            "Total Outlier  : 8\n",
            "% outlier : 0.12313375404032631 %\n"
          ]
        },
        {
          "output_type": "display_data",
          "data": {
            "text/plain": [
              "<Figure size 1152x288 with 2 Axes>"
            ],
            "image/png": "[encoded data removed]"
          },
          "metadata": {
            "needs_background": "light"
          }
        },
        {
          "output_type": "stream",
          "name": "stdout",
          "text": [
            "\n",
            "Skewness Value :  0.5036017301419994\n",
            "Variable is skewed\n",
            "Number of data : 6497\n",
            "Upper Outlier  : 331\n",
            "Lower Outlier  : 375\n",
            "Total Outlier  : 706\n",
            "% outlier : 10.866553794058795 %\n"
          ]
        },
        {
          "output_type": "display_data",
          "data": {
            "text/plain": [
              "<Figure size 1152x288 with 2 Axes>"
            ],
            "image/png": "[encoded data removed]"
          },
          "metadata": {
            "needs_background": "light"
          }
        },
        {
          "output_type": "stream",
          "name": "stdout",
          "text": [
            "\n",
            "Skewness Value :  0.3869659325699095\n",
            "Variable is not skewed\n",
            "Number of data : 6497\n",
            "Upper Outlier  : 32\n",
            "Lower Outlier  : 1\n",
            "Total Outlier  : 33\n",
            "% outlier : 0.507926735416346 %\n"
          ]
        },
        {
          "output_type": "display_data",
          "data": {
            "text/plain": [
              "<Figure size 1152x288 with 2 Axes>"
            ],
            "image/png": "[encoded data removed]"
          },
          "metadata": {
            "needs_background": "light"
          }
        },
        {
          "output_type": "stream",
          "name": "stdout",
          "text": [
            "\n",
            "Skewness Value :  1.798467034111248\n",
            "Variable is skewed\n",
            "Number of data : 6497\n",
            "Upper Outlier  : 825\n",
            "Lower Outlier  : 316\n",
            "Total Outlier  : 1141\n",
            "% outlier : 17.561951670001537 %\n"
          ]
        },
        {
          "output_type": "display_data",
          "data": {
            "text/plain": [
              "<Figure size 1152x288 with 2 Axes>"
            ],
            "image/png": "[encoded data removed]"
          },
          "metadata": {
            "needs_background": "light"
          }
        },
        {
          "output_type": "stream",
          "name": "stdout",
          "text": [
            "\n",
            "Skewness Value :  0.5657177290960251\n",
            "Variable is skewed\n",
            "Number of data : 6497\n",
            "Upper Outlier  : 686\n",
            "Lower Outlier  : 17\n",
            "Total Outlier  : 703\n",
            "% outlier : 10.820378636293675 %\n"
          ]
        },
        {
          "output_type": "display_data",
          "data": {
            "text/plain": [
              "<Figure size 1152x288 with 2 Axes>"
            ],
            "image/png": "[encoded data removed]"
          },
          "metadata": {
            "needs_background": "light"
          }
        },
        {
          "output_type": "stream",
          "name": "stdout",
          "text": [
            "\n",
            "Skewness Value :  0.1896226933726968\n",
            "Variable is not skewed\n",
            "Number of data : 6497\n",
            "Upper Outlier  : 5\n",
            "Lower Outlier  : 30\n",
            "Total Outlier  : 35\n",
            "% outlier : 0.5387101739264276 %\n"
          ]
        }
      ]
    },
    {
      "cell_type": "markdown",
      "source": [
        "There are considerable outliers in our dataset. For that, we are going to use winsorizer later on."
      ],
      "metadata": {
        "id": "wpCxArXVo7r8"
      }
    },
    {
      "cell_type": "markdown",
      "source": [
        "##**C.3. Cleaning**"
      ],
      "metadata": {
        "id": "JIr-qUVjpPn7"
      }
    },
    {
      "cell_type": "markdown",
      "source": [
        "We need to make sure the data is wholly clean of duplicates and missing values ."
      ],
      "metadata": {
        "id": "JZtWMfm0v8yI"
      }
    },
    {
      "cell_type": "code",
      "source": [
        "ds.duplicated().sum()"
      ],
      "metadata": {
        "id": "TdNRMUUmNhq-",
        "colab": {
          "base_uri": "https://localhost:8080/"
        },
        "outputId": "969fa82b-f45c-4f30-e94a-e02946764c38"
      },
      "execution_count": null,
      "outputs": [
        {
          "output_type": "execute_result",
          "data": {
            "text/plain": [
              "1168"
            ]
          },
          "metadata": {},
          "execution_count": 38
        }
      ]
    },
    {
      "cell_type": "code",
      "source": [
        "ds.isna().sum()"
      ],
      "metadata": {
        "id": "doAbTUeELEYL",
        "colab": {
          "base_uri": "https://localhost:8080/"
        },
        "outputId": "81490b21-db62-44bf-a5b9-7225508cf32a"
      },
      "execution_count": null,
      "outputs": [
        {
          "output_type": "execute_result",
          "data": {
            "text/plain": [
              "type                     0\n",
              "fixed acidity           10\n",
              "volatile acidity         8\n",
              "citric acid              3\n",
              "residual sugar           2\n",
              "chlorides                2\n",
              "free sulfur dioxide      0\n",
              "total sulfur dioxide     0\n",
              "density                  0\n",
              "pH                       9\n",
              "sulphates                4\n",
              "alcohol                  0\n",
              "quality                  0\n",
              "dtype: int64"
            ]
          },
          "metadata": {},
          "execution_count": 39
        }
      ]
    },
    {
      "cell_type": "markdown",
      "source": [
        "The duplicates take quite significant portion (a sixth of total data) but we will just drop them since they're of no use. The missing values however, are insignificant compared to thousands of data, so we will drop them too."
      ],
      "metadata": {
        "id": "NmvK3exbwHGv"
      }
    },
    {
      "cell_type": "code",
      "source": [
        "df = ds.copy()\n",
        "df.drop(ds[ds.duplicated()].index, inplace=True)\n",
        "df.dropna(axis=0, inplace=True)\n",
        "df.reset_index(drop=True, inplace=True)"
      ],
      "metadata": {
        "id": "wycjXFGsOHWT"
      },
      "execution_count": 9,
      "outputs": []
    },
    {
      "cell_type": "code",
      "source": [
        "df.quality = pd.cut(df.quality, bins=[2.5, 4.5, 6.5, 8.5, 10.5],labels=['Low','Medium','High','Excellent'])"
      ],
      "metadata": {
        "id": "dyQjk3Po7amI"
      },
      "execution_count": 10,
      "outputs": []
    },
    {
      "cell_type": "markdown",
      "metadata": {
        "id": "2noAmLDqHt7g"
      },
      "source": [
        "#**D. Pipeline Assembly**"
      ]
    },
    {
      "cell_type": "markdown",
      "source": [
        "After EDA and cleaning, we can proceed to building the preprocessing and model pipelines. "
      ],
      "metadata": {
        "id": "pbUsG9MEmjCG"
      }
    },
    {
      "cell_type": "markdown",
      "source": [
        "##**D.1. Data Splitting**"
      ],
      "metadata": {
        "id": "b48XIqop3z2X"
      }
    },
    {
      "cell_type": "markdown",
      "source": [
        "We need to split the data first for our model building."
      ],
      "metadata": {
        "id": "lgYv7speOkCI"
      }
    },
    {
      "cell_type": "code",
      "source": [
        "X = df.drop('quality', axis=1) \n",
        "Y = df['quality']"
      ],
      "metadata": {
        "id": "iDgrpwrI36zG"
      },
      "execution_count": 11,
      "outputs": []
    },
    {
      "cell_type": "code",
      "source": [
        "X_train, X_test, Y_train, Y_test = train_test_split(X, Y, test_size=0.2, random_state=11092001)"
      ],
      "metadata": {
        "id": "P4hc123v38oz"
      },
      "execution_count": 12,
      "outputs": []
    },
    {
      "cell_type": "code",
      "source": [
        "cat_cols = X_train.select_dtypes(include=['object']).columns.tolist()\n",
        "num_cols = X_train.select_dtypes(include=np.number).columns.tolist() "
      ],
      "metadata": {
        "id": "bKdgQivX3SRm"
      },
      "execution_count": 13,
      "outputs": []
    },
    {
      "cell_type": "markdown",
      "metadata": {
        "id": "e4ainAOCp-Mj"
      },
      "source": [
        "##**D.2. Preprocessing**"
      ]
    },
    {
      "cell_type": "markdown",
      "source": [
        "We build the base pipelines to be incorporated into the complete preprocessing pipeline."
      ],
      "metadata": {
        "id": "q6J3YNUI6NAh"
      }
    },
    {
      "cell_type": "code",
      "source": [
        "cat_enc = Pipeline(steps=[('ohe_enc', OneHotEncoder(handle_unknown='ignore'))])"
      ],
      "metadata": {
        "id": "pmrprUIX4OOy"
      },
      "execution_count": 14,
      "outputs": []
    },
    {
      "cell_type": "code",
      "source": [
        "num_win = Pipeline(steps=[('winsorizer', Winsorizer(capping_method='iqr', tail='both', fold=1.5)),\n",
        "                          ('scaler', StandardScaler())])"
      ],
      "metadata": {
        "id": "JvCzuRzt4fNF"
      },
      "execution_count": 15,
      "outputs": []
    },
    {
      "cell_type": "markdown",
      "source": [
        "Now, it's a simple assembly using Column Transformer function."
      ],
      "metadata": {
        "id": "a-BgwaHO6kBn"
      }
    },
    {
      "cell_type": "code",
      "source": [
        "prep_win = ColumnTransformer(\n",
        "    transformers=[('cat', cat_enc, cat_cols),\n",
        "                  ('num', num_win, num_cols)])"
      ],
      "metadata": {
        "id": "DxgR95fR5ca2"
      },
      "execution_count": 16,
      "outputs": []
    },
    {
      "cell_type": "markdown",
      "metadata": {
        "id": "gHSdwxz3qacb"
      },
      "source": [
        "##**D.3. Modelling**"
      ]
    },
    {
      "cell_type": "markdown",
      "source": [
        "We are going to build 5 different classifier models with their parameters grid: \n",
        "* Polynomial Logistic \n",
        "* Polynomial Support Vector\n",
        "* Radial Support Vector\n",
        "* Decision Tree\n",
        "* Adaptive Boosting. \n",
        "\n",
        "We will then test them on train-test models with Grid Search Cross Validation and choose the best one for our final pipeline."
      ],
      "metadata": {
        "id": "jsWhezV76ttL"
      }
    },
    {
      "cell_type": "code",
      "source": [
        "pipe = Pipeline([('preprocessing', prep_win), ('classifier', SVC())])"
      ],
      "metadata": {
        "id": "ZeVkaxeizJa3"
      },
      "execution_count": 17,
      "outputs": []
    },
    {
      "cell_type": "code",
      "source": [
        "param_grid = [{'preprocessing': [prep_win], #polynomial Logistic \n",
        "               'classifier': [Pipeline([('polynomial', PolynomialFeatures()), ('logreg', LogisticRegression())])], \n",
        "               'classifier__polynomial__degree': [1, 2, 3, 4],\n",
        "               'classifier__logreg__C': [0.01, 0.1, 1, 10, 100]},\n",
        "              {'preprocessing': [prep_win], #Linear SVC\n",
        "               'classifier': [SVC(kernel='poly', probability=True)],  \n",
        "               'classifier__degree': [1, 2, 3, 4],\n",
        "               'classifier__C': [0.01, 0.1, 1, 10, 100]},\n",
        "              {'preprocessing': [prep_win], #Polynommial SVC\n",
        "               'classifier': [SVC(kernel='rbf', probability=True)],\n",
        "               'classifier__gamma': [0.01, 0.1, 1, 10, 100],\n",
        "               'classifier__C': [0.01, 0.1, 1, 10, 100]},\n",
        "              {'preprocessing': [prep_win], #Decision Tree\n",
        "               'classifier': [DecisionTreeClassifier()],\n",
        "               'classifier__max_depth': [1, 2, 3]},\n",
        "              {'preprocessing': [prep_win], #Adaptive Boosting\n",
        "               'classifier': [AdaBoostClassifier()], \n",
        "               'classifier__n_estimators': [50, 100, 200],\n",
        "               'classifier__learning_rate': [0.1, 0.5, 1]}]"
      ],
      "metadata": {
        "id": "oDL5p331BVvN"
      },
      "execution_count": 18,
      "outputs": []
    },
    {
      "cell_type": "code",
      "source": [
        "grid = GridSearchCV(pipe, param_grid, cv=4)\n",
        "grid.fit(X_train, Y_train)\n",
        "\n",
        "print(\"Best params:\\n{}\\n\".format(grid.best_params_))\n",
        "print(\"Best cross-validation score: {:.2f}\".format(grid.best_score_))\n",
        "print(\"Test-set score: {:.2f}\".format(grid.score(X_test, Y_test)))"
      ],
      "metadata": {
        "colab": {
          "base_uri": "https://localhost:8080/"
        },
        "id": "AmSGuT_dBVEf",
        "outputId": "f9c2f520-5876-41c1-8df8-9f099c9c19ec"
      },
      "execution_count": 19,
      "outputs": [
        {
          "output_type": "stream",
          "name": "stdout",
          "text": [
            "Best params:\n",
            "{'classifier': SVC(C=10, gamma=0.1, probability=True), 'classifier__C': 10, 'classifier__gamma': 0.1, 'preprocessing': ColumnTransformer(transformers=[('cat',\n",
            "                                 Pipeline(steps=[('ohe_enc',\n",
            "                                                  OneHotEncoder(handle_unknown='ignore'))]),\n",
            "                                 ['type']),\n",
            "                                ('num',\n",
            "                                 Pipeline(steps=[('winsorizer',\n",
            "                                                  Winsorizer(capping_method='iqr',\n",
            "                                                             fold=1.5,\n",
            "                                                             tail='both')),\n",
            "                                                 ('scaler', StandardScaler())]),\n",
            "                                 ['fixed acidity', 'volatile acidity',\n",
            "                                  'citric acid', 'residual sugar', 'chlorides',\n",
            "                                  'free sulfur dioxide', 'total sulfur dioxide',\n",
            "                                  'density', 'pH', 'sulphates', 'alcohol'])])}\n",
            "\n",
            "Best cross-validation score: 0.80\n",
            "Test-set score: 0.78\n"
          ]
        }
      ]
    },
    {
      "cell_type": "markdown",
      "source": [
        "The best classifier model is Radial Support Vector with C=10 and Gamma=0.1.\n",
        "\n",
        "It scored 80% on the training cross validated dataset and 78% on test dataset.\n",
        "\n",
        "Very good for a multiclass classifier."
      ],
      "metadata": {
        "id": "z-vYIaKcPVUB"
      }
    },
    {
      "cell_type": "markdown",
      "source": [
        "Now we just need to build a final, end-to-end preprocessing and prediction pipeline from that hyperparameters."
      ],
      "metadata": {
        "id": "MkzUejjZwAOC"
      }
    },
    {
      "cell_type": "code",
      "source": [
        "Wine_Classifier = Pipeline([('preprocessing', prep_win), ('classifier', SVC(kernel='rbf', C=10, gamma=0.1, probability=True))])\n",
        "Wine_Classifier.fit(X_train, Y_train)"
      ],
      "metadata": {
        "colab": {
          "base_uri": "https://localhost:8080/"
        },
        "id": "aSmiUtWNOMPw",
        "outputId": "5fbcc96c-14e0-4906-c811-22c19bb2c888"
      },
      "execution_count": null,
      "outputs": [
        {
          "output_type": "execute_result",
          "data": {
            "text/plain": [
              "Pipeline(steps=[('preprocessing',\n",
              "                 ColumnTransformer(transformers=[('cat',\n",
              "                                                  Pipeline(steps=[('ohe_enc',\n",
              "                                                                   OneHotEncoder(handle_unknown='ignore'))]),\n",
              "                                                  ['type']),\n",
              "                                                 ('num',\n",
              "                                                  Pipeline(steps=[('winsorizer',\n",
              "                                                                   Winsorizer(capping_method='iqr',\n",
              "                                                                              fold=1.5,\n",
              "                                                                              tail='both')),\n",
              "                                                                  ('scaler',\n",
              "                                                                   StandardScaler())]),\n",
              "                                                  ['fixed acidity',\n",
              "                                                   'volatile acidity',\n",
              "                                                   'citric acid',\n",
              "                                                   'residual sugar',\n",
              "                                                   'chlorides',\n",
              "                                                   'free sulfur dioxide',\n",
              "                                                   'total sulfur dioxide',\n",
              "                                                   'density', 'pH', 'sulphates',\n",
              "                                                   'alcohol'])])),\n",
              "                ('classifier', SVC(C=10, gamma=0.1, probability=True))])"
            ]
          },
          "metadata": {},
          "execution_count": 64
        }
      ]
    },
    {
      "cell_type": "markdown",
      "metadata": {
        "id": "6lsSCHiYrRUl"
      },
      "source": [
        "#**E. Deployment**"
      ]
    },
    {
      "cell_type": "markdown",
      "source": [
        "After we build the final pipeline, we can download it in pickle format using this prompt."
      ],
      "metadata": {
        "id": "7AZxMfq6uWeF"
      }
    },
    {
      "cell_type": "code",
      "source": [
        "pickle.dump(Wine_Classifier, open('Wine_Classifier.pkl', 'wb'))"
      ],
      "metadata": {
        "id": "P_WTt0eGSq1A"
      },
      "execution_count": null,
      "outputs": []
    },
    {
      "cell_type": "markdown",
      "source": [
        "The pickle format is then bundled with support files in a web app folder."
      ],
      "metadata": {
        "id": "NWGX2Uo4uhMB"
      }
    },
    {
      "cell_type": "markdown",
      "metadata": {
        "id": "IMwXrvFmr7qE"
      },
      "source": [
        "#**F. Analysis**"
      ]
    },
    {
      "cell_type": "markdown",
      "source": [
        "Using pipeline function, we can simplify an entire preprocessing and prediction process in one pickle file. It also automate testing many combinations of preprocessing, model and hyperparameters in a single click. \n",
        "\n",
        "Using a web app, we can make our model more user-friendly. The only thing we need to do to use the model is to input information and the whole process takes over in the background."
      ],
      "metadata": {
        "id": "M04eS2DjA6el"
      }
    }
  ],
  "metadata": {
    "colab": {
      "collapsed_sections": [],
      "provenance": [],
      "toc_visible": true
    },
    "kernelspec": {
      "display_name": "Python 3",
      "name": "python3"
    },
    "language_info": {
      "name": "python"
    }
  },
  "nbformat": 4,
  "nbformat_minor": 0
}